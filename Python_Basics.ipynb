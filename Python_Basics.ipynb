{
  "nbformat": 4,
  "nbformat_minor": 0,
  "metadata": {
    "colab": {
      "provenance": []
    },
    "kernelspec": {
      "name": "python3",
      "display_name": "Python 3"
    },
    "language_info": {
      "name": "python"
    }
  },
  "cells": [
    {
      "cell_type": "markdown",
      "source": [],
      "metadata": {
        "id": "c9G-ACmCS9U3"
      }
    },
    {
      "cell_type": "markdown",
      "source": [],
      "metadata": {
        "id": "9wfD9w1Y1ukF"
      }
    },
    {
      "cell_type": "markdown",
      "source": [
        "Python Basic Assignment Question\n"
      ],
      "metadata": {
        "id": "ujSkOCMyHRxP"
      }
    },
    {
      "cell_type": "markdown",
      "source": [
        "1. What is Python, and why is it popular ?\n",
        "- Python is a high-level, general-purpose programming language known for simplicity and readability.It was created by Guido van Rossum and first released in 1991.\n",
        "   - It is popular because it has extensive libraries and Framework , easy to understand and use , versatile , Large community Support , Cross-platform\n",
        "   Compatibility and Stong support for Automation etc..\n",
        "\n",
        "2. What is an interpreter in Python ?\n",
        "- An interpreter in python is a program that executes Python code line by line rather than compiling it all at once . It translates high - level python code into machine code at runtime, making it easier to debug and modify.\n",
        "\n",
        "3.  What are pre-defined keywords in Python ?\n",
        "- Pre-defined keywords in python are reserved words that have a special meaning in the language. These words cannot be used as variables names, function names or identifiers because they are part of python's sytax. Keywords are case - senstive and cannot be re-defined or overridden with a python program.\n",
        "\n",
        "4.  Can keywords be used as variable names ?\n",
        "- Keywords are not used in variables names.\n",
        "\n",
        "5. What is mutability in Python ?\n",
        "- In python , mutability refer to whether an object's value can be changed after it is created. Ex- Lists , Dictionaries , Sets .\n",
        "\n",
        "6. Why are lists mutable, but tuples are immutable ?\n",
        "-  Lists are mutable because they are designed for dynamic operations, allowing modifications like adding, removing, or changing elements.\n",
        "\n",
        "- Tuples are immutable because they are optimized for performance and memory efficiency, ensuring data remains fixed and safe from accidental changes.\n",
        "\n",
        "7. What is the difference between “==” and “is” operators in Python ?\n",
        "- \"==\" is known as Equality Operator.\n",
        "- Values(Do the contents match).\n",
        "- Ex- (a==b) checks if value are same.\n",
        "\n",
        "- \"is\" known as Identity operator.\n",
        "- Memory location(Are they the same object).\n",
        "- Ex- (a is b ) checks if they points the same object in memory.\n",
        "\n",
        "8. What are logical operators in Python ?\n",
        "- Logical operators are used to combine multiple condition and return \"True\" and \"False\" based on their logic.\n",
        "- Types of logical operator:\n",
        "1. \"and\"operator - Returns 'True' if both condition are 'True'.\n",
        "- Ex-  (5 > 3) and (10 > 5) → True\n",
        "2. \"or\" operator - Returns 'True' if at least one condition is 'True'.\n",
        "- Ex- \t(5 > 3) or (10 < 5) → True\n",
        "3. \"not\" operator - Reverses the result (True → False, False → True).\n",
        "- Ex- not(5 > 3) → False\n",
        "\n",
        "9. What is type casting in Python ?\n",
        "- Type casting (also called type conversion) is the process of converting one data type into another.\n",
        "\n",
        "- Types of Type Casting :\n",
        "- Implicit Type Casting (Automatic Conversion)\n",
        "\n",
        "- Python automatically converts a smaller data type into a larger one to prevent data loss.\n",
        "- Explicit Type Casting (Manual Conversion)\n",
        "\n",
        "- Done using functions like int(), float(), str(), list(), etc.\n",
        "\n",
        "\n",
        "10. What is the difference between implicit and explicit type casting ?\n",
        "- Implicit Type Casting\t: Python automatically converts a smaller data type into a larger one to prevent data loss.\n",
        "-Ex- a = 5 + 2.5 → a becomes 7.5 (int → float)\n",
        "- Explicit Type Casting : The programmer manually converts one data type to another using functions like int(), float(), str(), etc. Generally use by 'Developer'.\n",
        "-Ex- The programmer manually converts one data type to another using functions like int(), float(), str(), etc.\n",
        "\n",
        "11.  What is the purpose of conditional statements in Python ?\n",
        "- Conditional statements are used to make decisions in a program based on certain conditions. They allow the program to execute different blocks of code depending on whether a condition is True or False.\n",
        "\n",
        "\n",
        "- if statement – Executes a block of code if the condition is True.\n",
        "if-else statement – Runs one block if True, another if False.\n",
        "if-elif-else statement – Checks multiple conditions sequentially.\n",
        "Nested if statements – if inside another if for complex conditions.\n",
        " - Ex :\n",
        " age = 18\n",
        "\n",
        "- if age >= 18:\n",
        "    print(\"You are eligible to vote.\")\n",
        "- else:\n",
        "    print(\"You are not eligible to vote.\")\n",
        "\n",
        "12. How does the elif statement work ?\n",
        "- The elif (short for \"else if\") statement is used to check multiple conditions sequentially. It allows a program to execute different code blocks based on various conditions.\n",
        "- if condition1:\n",
        "- elif condition2:\n",
        "- elif condition3:\n",
        "- else:\n",
        "\n",
        "- Ex :\n",
        "- marks = 85\n",
        "\n",
        "- if marks >= 90:\n",
        "    print(\"Grade: A\")\n",
        "- elif marks >= 75:\n",
        "    print(\"Grade: B\")  # This runs because marks = 85\n",
        "- elif marks >= 60:\n",
        "    print(\"Grade: C\")\n",
        "- else:\n",
        "    print(\"Grade: F\")\n",
        "\n",
        "13. What is the difference between for and while loops ?\n",
        "- 'for loop' : Used when you know how many times you want to repeat something (like iterating over a list or range).\n",
        "\n",
        "- Example: Looping through a list of numbers.\n",
        "\n",
        "- 'while loop' : Used when you don’t know how many times you need to repeat, but you keep looping until a condition becomes False.\n",
        "\n",
        "- Example: Looping until a number reaches a certain value.  \n",
        "- for = Fixed repetitions (e.g., repeat 5 times).\n",
        "- while = Condition-based repetition (e.g., repeat until a condition is met)\n",
        "\n",
        "14. Describe a scenario where a while loop is more suitable than a for loop ?\n",
        "-  Imagine you are writing a program where the user is asked to enter a valid password. You don't know how many attempts it will take for the user to input the correct password, but you want to keep asking until the correct one is entered.\n",
        "\n",
        "- In this case, a while loop is more suitable than a for loop because you don't know the exact number of attempts—only the condition (valid password) matters.\n",
        "\n",
        "\n",
        "\n"
      ],
      "metadata": {
        "id": "svM3JLgmHqsX"
      }
    },
    {
      "cell_type": "code",
      "source": [
        "# Write a Python program to print \"Hello, World!\"\n",
        "print(\"Hello, World!\")"
      ],
      "metadata": {
        "id": "Xju6ugM9RFLX",
        "colab": {
          "base_uri": "https://localhost:8080/"
        },
        "outputId": "47a95d5a-e52a-4763-9f63-1e0d70c346d9"
      },
      "execution_count": null,
      "outputs": [
        {
          "output_type": "stream",
          "name": "stdout",
          "text": [
            "Hello, World!\n"
          ]
        }
      ]
    },
    {
      "cell_type": "markdown",
      "source": [],
      "metadata": {
        "id": "wsEKP2tZ1w0P"
      }
    },
    {
      "cell_type": "code",
      "source": [
        "# Write a Python program that displays your name and age ?\n",
        "name=input(\"Enter your name:\")\n",
        "age=int(input(\"Enter your age:\"))\n",
        "print(\"My name is\",name,\"and my age is\",age)\n"
      ],
      "metadata": {
        "colab": {
          "base_uri": "https://localhost:8080/"
        },
        "id": "eE8mWsxkeK8X",
        "outputId": "c37c9b7f-dcfc-49a1-8191-530d8e7aa5fa"
      },
      "execution_count": null,
      "outputs": [
        {
          "output_type": "stream",
          "name": "stdout",
          "text": [
            "Enter your name:Sanket Khatik\n",
            "Enter your age:20\n",
            "My name is Sanket Khatik and my age is 20\n"
          ]
        }
      ]
    },
    {
      "cell_type": "markdown",
      "source": [],
      "metadata": {
        "id": "HDjpkDeEltTW"
      }
    },
    {
      "cell_type": "code",
      "source": [
        "#  Write code to print all the pre-defined keywords in Python using the keyword library ?\n",
        "import keyword\n",
        "\n",
        "# Get the list of keywords\n",
        "keywords = keyword.kwlist\n",
        "\n",
        "# Print the keywords\n",
        "for kw in keywords:\n",
        "    print(kw)"
      ],
      "metadata": {
        "colab": {
          "base_uri": "https://localhost:8080/"
        },
        "id": "bx9xt88ElmzH",
        "outputId": "b5653c20-5860-4747-c685-04fa7359beee"
      },
      "execution_count": null,
      "outputs": [
        {
          "output_type": "stream",
          "name": "stdout",
          "text": [
            "False\n",
            "None\n",
            "True\n",
            "and\n",
            "as\n",
            "assert\n",
            "async\n",
            "await\n",
            "break\n",
            "class\n",
            "continue\n",
            "def\n",
            "del\n",
            "elif\n",
            "else\n",
            "except\n",
            "finally\n",
            "for\n",
            "from\n",
            "global\n",
            "if\n",
            "import\n",
            "in\n",
            "is\n",
            "lambda\n",
            "nonlocal\n",
            "not\n",
            "or\n",
            "pass\n",
            "raise\n",
            "return\n",
            "try\n",
            "while\n",
            "with\n",
            "yield\n"
          ]
        }
      ]
    },
    {
      "cell_type": "code",
      "source": [
        "#  Write a program that checks if a given word is a Python keyword ?\n",
        "import keyword\n",
        "\n",
        "word = input(\"Enter a word: \")\n",
        "\n",
        "if keyword.iskeyword(word):\n",
        "    print(f\"'{word}' is a Python keyword.\")\n",
        "else:\n",
        "    print(f\"'{word}' is not a Python keyword.\")"
      ],
      "metadata": {
        "colab": {
          "base_uri": "https://localhost:8080/"
        },
        "id": "yXQqUA6amUJ2",
        "outputId": "e8e12fa4-a226-4c0b-a290-2b1db75957e6"
      },
      "execution_count": null,
      "outputs": [
        {
          "output_type": "stream",
          "name": "stdout",
          "text": [
            "Enter a word: if\n",
            "'if' is a Python keyword.\n"
          ]
        }
      ]
    },
    {
      "cell_type": "code",
      "source": [
        "# Create a list and tuple in Python, and demonstrate how attempting to change an element works differently for each ?\n",
        "# Creating a list\n",
        "my_list = [1, 2, 3]\n",
        "print(\"Original list:\", my_list)\n",
        "\n",
        "# Modifying an element in the list\n",
        "my_list[1] = 99\n",
        "print(\"Modified list:\", my_list)\n",
        "\n",
        "# Creating a tuple\n",
        "my_tuple = (1, 2, 3)\n",
        "print(\"\\nOriginal tuple:\", my_tuple)\n",
        "\n",
        "# Attempting to modify an element in the tuple (this will cause an error)\n",
        "try:\n",
        "    my_tuple[1] = 99\n",
        "except TypeError as e:\n",
        "    print(\"Error:\", e)\n",
        "\n"
      ],
      "metadata": {
        "colab": {
          "base_uri": "https://localhost:8080/"
        },
        "id": "zUJo_gLz0ukt",
        "outputId": "9c5a434f-bffa-453f-88d9-6add789c52a6"
      },
      "execution_count": 6,
      "outputs": [
        {
          "output_type": "stream",
          "name": "stdout",
          "text": [
            "Original list: [1, 2, 3]\n",
            "Modified list: [1, 99, 3]\n",
            "\n",
            "Original tuple: (1, 2, 3)\n",
            "Error: 'tuple' object does not support item assignment\n"
          ]
        }
      ]
    },
    {
      "cell_type": "code",
      "source": [
        "# Write a function to demonstrate the behavior of mutable and immutable arguments ?\n",
        "def modify_values(num, num_list):\n",
        "    \"\"\"Modify an integer and a list to show the difference in behavior.\"\"\"\n",
        "    num += 10  # This won't affect the original value outside the function\n",
        "    num_list.append(99)  # This modifies the original list\n",
        "\n",
        "    print(\"Inside function:\")\n",
        "    print(\"num:\", num)         # Changed inside the function, but not outside\n",
        "    print(\"num_list:\", num_list)  # Modified inside and affects the original list\n",
        "\n",
        "# Immutable argument (integer)\n",
        "x = 5\n",
        "# Mutable argument (list)\n",
        "my_list = [1, 2, 3]\n",
        "\n",
        "print(\"Before function call:\")\n",
        "print(\"x:\", x)\n",
        "print(\"my_list:\", my_list)\n",
        "\n",
        "modify_values(x, my_list)\n",
        "\n",
        "print(\"\\nAfter function call:\")\n",
        "print(\"x:\", x)         # Unchanged because integers are immutable\n",
        "print(\"my_list:\", my_list)  # Changed because lists are mutable\n"
      ],
      "metadata": {
        "colab": {
          "base_uri": "https://localhost:8080/"
        },
        "id": "PVJe14bD_JbS",
        "outputId": "6dd8e6b6-b6b4-4a72-9ee5-9c4268cb2295"
      },
      "execution_count": 7,
      "outputs": [
        {
          "output_type": "stream",
          "name": "stdout",
          "text": [
            "Before function call:\n",
            "x: 5\n",
            "my_list: [1, 2, 3]\n",
            "Inside function:\n",
            "num: 15\n",
            "num_list: [1, 2, 3, 99]\n",
            "\n",
            "After function call:\n",
            "x: 5\n",
            "my_list: [1, 2, 3, 99]\n"
          ]
        }
      ]
    },
    {
      "cell_type": "markdown",
      "source": [
        "- question 7 and 8 are same"
      ],
      "metadata": {
        "id": "Vo2sjmTHFF_w"
      }
    },
    {
      "cell_type": "code",
      "source": [
        "#  Write a program to demonstrate the use of logical operators ?\n",
        " #using and operator\n",
        "a=5\n",
        "b=10\n",
        "print(a<b and b>a) # both condition are true\n",
        "#using or operator\n",
        "print(a>b or b>a) # only one codition is true\n",
        "#using not operator\n",
        "print(not(a>b)) # condition is false but not operator change the output\n"
      ],
      "metadata": {
        "colab": {
          "base_uri": "https://localhost:8080/"
        },
        "id": "HNTt3Or_FQ77",
        "outputId": "97788e4a-ee93-4a24-ff35-1406b38cd244"
      },
      "execution_count": 12,
      "outputs": [
        {
          "output_type": "stream",
          "name": "stdout",
          "text": [
            "True\n",
            "True\n",
            "True\n"
          ]
        }
      ]
    },
    {
      "cell_type": "code",
      "source": [
        "# Write a Python program to convert user input from string to integer, float, and boolean types ?\n",
        "# Taking user input as a string\n",
        "user_input = input(\"Enter a value: \")\n",
        "\n",
        "# Converting to integer\n",
        "try:\n",
        "    int_value = int(user_input)\n",
        "    print(\"Integer value:\", int_value)\n",
        "except ValueError:\n",
        "    print(\"Cannot convert to integer.\")\n",
        "\n",
        "# Converting to float\n",
        "try:\n",
        "    float_value = float(user_input)\n",
        "    print(\"Float value:\", float_value)\n",
        "except ValueError:\n",
        "    print(\"Cannot convert to float.\")\n",
        "\n",
        "# Converting to boolean\n",
        "bool_value = bool(user_input.strip())  # Empty string becomes False, others True\n",
        "print(\"Boolean value:\", bool_value)\n"
      ],
      "metadata": {
        "colab": {
          "base_uri": "https://localhost:8080/"
        },
        "id": "hquy4-t0STpB",
        "outputId": "bd29181a-9eb7-4325-e930-ec63fd7c594e"
      },
      "execution_count": 16,
      "outputs": [
        {
          "output_type": "stream",
          "name": "stdout",
          "text": [
            "Enter a value: 45\n",
            "Integer value: 45\n",
            "Float value: 45.0\n",
            "Boolean value: True\n"
          ]
        }
      ]
    },
    {
      "cell_type": "code",
      "source": [
        "#  Write code to demonstrate type casting with list elements ?\n",
        "# Original list with elements of different types\n",
        "my_list = [10, '20', 30.5, '40.2']\n",
        "\n",
        "# Type casting to integers\n",
        "int_list = [int(x) for x in my_list if str(x).isdigit()]\n",
        "print(\"Integer list:\", int_list)\n",
        "#In this, isdigit() method is used to check if the string representation of the element contains only digits. This is done to ensure that only valid numeric strings are converted to integers using the int() function.\n",
        "\n",
        "# Type casting to floats\n",
        "float_list = [float(x) for x in my_list]\n",
        "print(\"Float list:\", float_list)\n",
        "#Here, all elements in the original list are converted to floats using the float() function.\n",
        "\n",
        "# Type casting to strings\n",
        "str_list = [str(x) for x in my_list]\n",
        "print(\"String list:\", str_list)\n",
        "#This converts all elements in the original list to strings using the str() function.\n"
      ],
      "metadata": {
        "colab": {
          "base_uri": "https://localhost:8080/"
        },
        "id": "0ORdy0FdSeOe",
        "outputId": "cb0d96ea-cfa8-43fa-f9f3-a5f26878402b"
      },
      "execution_count": 17,
      "outputs": [
        {
          "output_type": "stream",
          "name": "stdout",
          "text": [
            "Integer list: [10, 20]\n",
            "Float list: [10.0, 20.0, 30.5, 40.2]\n",
            "String list: ['10', '20', '30.5', '40.2']\n"
          ]
        }
      ]
    },
    {
      "cell_type": "code",
      "source": [
        "#  Write a program that checks if a number is positive, negative, or zero ?\n",
        "# Taking user input\n",
        "num = float(input(\"Enter a number: \"))\n",
        "\n",
        "# Checking conditions\n",
        "if num > 0:\n",
        "    print(\"The number is positive.\")\n",
        "elif num < 0:\n",
        "    print(\"The number is negative.\")\n",
        "else:\n",
        "    print(\"The number is zero.\")\n"
      ],
      "metadata": {
        "colab": {
          "base_uri": "https://localhost:8080/"
        },
        "id": "RlDNk-RUSzL_",
        "outputId": "74a98878-d80b-4cad-ce43-041a2575e2f5"
      },
      "execution_count": 22,
      "outputs": [
        {
          "output_type": "stream",
          "name": "stdout",
          "text": [
            "Enter a number: 25\n",
            "The number is positive.\n"
          ]
        }
      ]
    },
    {
      "cell_type": "code",
      "source": [
        "# Write a for loop to print numbers from 1 to 10 ?\n",
        "for i in range(1,11):\n",
        "  print(i)\n"
      ],
      "metadata": {
        "colab": {
          "base_uri": "https://localhost:8080/"
        },
        "id": "1-LfqsQ1UDpm",
        "outputId": "d779d8f0-fb67-4c6b-fe56-b2a3218614f3"
      },
      "execution_count": 25,
      "outputs": [
        {
          "output_type": "stream",
          "name": "stdout",
          "text": [
            "1\n",
            "2\n",
            "3\n",
            "4\n",
            "5\n",
            "6\n",
            "7\n",
            "8\n",
            "9\n",
            "10\n"
          ]
        }
      ]
    },
    {
      "cell_type": "code",
      "source": [
        "# Write a Python program to find the sum of all even numbers between 1 and 50 ?\n",
        "for i in range(1,51):\n",
        "  if i%2==0:\n",
        "    print(i)"
      ],
      "metadata": {
        "colab": {
          "base_uri": "https://localhost:8080/"
        },
        "id": "VZBDi7kaUS49",
        "outputId": "be44be1c-6cc1-4840-8e5e-6eadd1af563c"
      },
      "execution_count": 26,
      "outputs": [
        {
          "output_type": "stream",
          "name": "stdout",
          "text": [
            "2\n",
            "4\n",
            "6\n",
            "8\n",
            "10\n",
            "12\n",
            "14\n",
            "16\n",
            "18\n",
            "20\n",
            "22\n",
            "24\n",
            "26\n",
            "28\n",
            "30\n",
            "32\n",
            "34\n",
            "36\n",
            "38\n",
            "40\n",
            "42\n",
            "44\n",
            "46\n",
            "48\n",
            "50\n"
          ]
        }
      ]
    },
    {
      "cell_type": "code",
      "source": [
        "# Write a program to reverse a string using a while loop ?\n",
        "string = input(\"Enter a string: \")\n",
        "reversed_string = \"\"\n",
        "index = len(string) - 1\n",
        "\n",
        "while index >= 0:\n",
        "    reversed_string += string[index]\n",
        "    index -= 1\n",
        "\n",
        "print(\"Reversed string:\", reversed_string)"
      ],
      "metadata": {
        "colab": {
          "base_uri": "https://localhost:8080/"
        },
        "id": "qaes8FAmUzki",
        "outputId": "6befbcf0-9839-4eaf-b4d6-88eb6aeb2c68"
      },
      "execution_count": 27,
      "outputs": [
        {
          "output_type": "stream",
          "name": "stdout",
          "text": [
            "Enter a string: sanket\n",
            "Reversed string: teknas\n"
          ]
        }
      ]
    },
    {
      "cell_type": "code",
      "source": [
        "# Write a Python program to calculate the factorial of a number provided by the user using a while loop ?\n",
        "num = int(input(\"Enter a number: \"))\n",
        "factorial = 1\n",
        "current = 1\n",
        "\n",
        "while current <= num:\n",
        "    factorial *= current\n",
        "    current += 1\n",
        "\n",
        "print(f\"The factorial of {num} is {factorial}\")"
      ],
      "metadata": {
        "colab": {
          "base_uri": "https://localhost:8080/"
        },
        "id": "zOypCkm6VAaa",
        "outputId": "415e8212-cdaf-45c6-a83a-3b2fda86f507"
      },
      "execution_count": 28,
      "outputs": [
        {
          "output_type": "stream",
          "name": "stdout",
          "text": [
            "Enter a number: 45\n",
            "The factorial of 45 is 119622220865480194561963161495657715064383733760000000000\n"
          ]
        }
      ]
    }
  ]
}